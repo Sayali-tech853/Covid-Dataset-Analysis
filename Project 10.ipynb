{
 "cells": [
  {
   "cell_type": "code",
   "execution_count": 25,
   "id": "39904f59-19b7-47fc-b479-cabb0d4b4c4f",
   "metadata": {},
   "outputs": [],
   "source": [
    "import pandas as pd\n",
    "import numpy as np"
   ]
  },
  {
   "cell_type": "code",
   "execution_count": 26,
   "id": "b72361a8-c279-41c1-b0c7-5276509151b5",
   "metadata": {},
   "outputs": [],
   "source": [
    "df=pd.read_csv('country_vaccinations.csv')"
   ]
  },
  {
   "cell_type": "code",
   "execution_count": 27,
   "id": "ba2bbf1d-605e-4270-9b35-87ebf0ee2775",
   "metadata": {},
   "outputs": [
    {
     "data": {
      "text/html": [
       "<div>\n",
       "<style scoped>\n",
       "    .dataframe tbody tr th:only-of-type {\n",
       "        vertical-align: middle;\n",
       "    }\n",
       "\n",
       "    .dataframe tbody tr th {\n",
       "        vertical-align: top;\n",
       "    }\n",
       "\n",
       "    .dataframe thead th {\n",
       "        text-align: right;\n",
       "    }\n",
       "</style>\n",
       "<table border=\"1\" class=\"dataframe\">\n",
       "  <thead>\n",
       "    <tr style=\"text-align: right;\">\n",
       "      <th></th>\n",
       "      <th>country</th>\n",
       "      <th>iso_code</th>\n",
       "      <th>date</th>\n",
       "      <th>total_vaccinations</th>\n",
       "      <th>people_vaccinated</th>\n",
       "      <th>people_fully_vaccinated</th>\n",
       "      <th>daily_vaccinations_raw</th>\n",
       "      <th>daily_vaccinations</th>\n",
       "      <th>total_vaccinations_per_hundred</th>\n",
       "      <th>people_vaccinated_per_hundred</th>\n",
       "      <th>people_fully_vaccinated_per_hundred</th>\n",
       "      <th>daily_vaccinations_per_million</th>\n",
       "      <th>vaccines</th>\n",
       "      <th>source_name</th>\n",
       "      <th>source_website</th>\n",
       "    </tr>\n",
       "  </thead>\n",
       "  <tbody>\n",
       "    <tr>\n",
       "      <th>0</th>\n",
       "      <td>Afghanistan</td>\n",
       "      <td>AFG</td>\n",
       "      <td>2021-02-22</td>\n",
       "      <td>0.0</td>\n",
       "      <td>0.0</td>\n",
       "      <td>NaN</td>\n",
       "      <td>NaN</td>\n",
       "      <td>NaN</td>\n",
       "      <td>0.0</td>\n",
       "      <td>0.0</td>\n",
       "      <td>NaN</td>\n",
       "      <td>NaN</td>\n",
       "      <td>Johnson&amp;Johnson, Oxford/AstraZeneca, Pfizer/Bi...</td>\n",
       "      <td>World Health Organization</td>\n",
       "      <td>https://covid19.who.int/</td>\n",
       "    </tr>\n",
       "    <tr>\n",
       "      <th>1</th>\n",
       "      <td>Afghanistan</td>\n",
       "      <td>AFG</td>\n",
       "      <td>2021-02-23</td>\n",
       "      <td>NaN</td>\n",
       "      <td>NaN</td>\n",
       "      <td>NaN</td>\n",
       "      <td>NaN</td>\n",
       "      <td>1367.0</td>\n",
       "      <td>NaN</td>\n",
       "      <td>NaN</td>\n",
       "      <td>NaN</td>\n",
       "      <td>34.0</td>\n",
       "      <td>Johnson&amp;Johnson, Oxford/AstraZeneca, Pfizer/Bi...</td>\n",
       "      <td>World Health Organization</td>\n",
       "      <td>https://covid19.who.int/</td>\n",
       "    </tr>\n",
       "    <tr>\n",
       "      <th>2</th>\n",
       "      <td>Afghanistan</td>\n",
       "      <td>AFG</td>\n",
       "      <td>2021-02-24</td>\n",
       "      <td>NaN</td>\n",
       "      <td>NaN</td>\n",
       "      <td>NaN</td>\n",
       "      <td>NaN</td>\n",
       "      <td>1367.0</td>\n",
       "      <td>NaN</td>\n",
       "      <td>NaN</td>\n",
       "      <td>NaN</td>\n",
       "      <td>34.0</td>\n",
       "      <td>Johnson&amp;Johnson, Oxford/AstraZeneca, Pfizer/Bi...</td>\n",
       "      <td>World Health Organization</td>\n",
       "      <td>https://covid19.who.int/</td>\n",
       "    </tr>\n",
       "    <tr>\n",
       "      <th>3</th>\n",
       "      <td>Afghanistan</td>\n",
       "      <td>AFG</td>\n",
       "      <td>2021-02-25</td>\n",
       "      <td>NaN</td>\n",
       "      <td>NaN</td>\n",
       "      <td>NaN</td>\n",
       "      <td>NaN</td>\n",
       "      <td>1367.0</td>\n",
       "      <td>NaN</td>\n",
       "      <td>NaN</td>\n",
       "      <td>NaN</td>\n",
       "      <td>34.0</td>\n",
       "      <td>Johnson&amp;Johnson, Oxford/AstraZeneca, Pfizer/Bi...</td>\n",
       "      <td>World Health Organization</td>\n",
       "      <td>https://covid19.who.int/</td>\n",
       "    </tr>\n",
       "    <tr>\n",
       "      <th>4</th>\n",
       "      <td>Afghanistan</td>\n",
       "      <td>AFG</td>\n",
       "      <td>2021-02-26</td>\n",
       "      <td>NaN</td>\n",
       "      <td>NaN</td>\n",
       "      <td>NaN</td>\n",
       "      <td>NaN</td>\n",
       "      <td>1367.0</td>\n",
       "      <td>NaN</td>\n",
       "      <td>NaN</td>\n",
       "      <td>NaN</td>\n",
       "      <td>34.0</td>\n",
       "      <td>Johnson&amp;Johnson, Oxford/AstraZeneca, Pfizer/Bi...</td>\n",
       "      <td>World Health Organization</td>\n",
       "      <td>https://covid19.who.int/</td>\n",
       "    </tr>\n",
       "  </tbody>\n",
       "</table>\n",
       "</div>"
      ],
      "text/plain": [
       "       country iso_code        date  total_vaccinations  people_vaccinated  \\\n",
       "0  Afghanistan      AFG  2021-02-22                 0.0                0.0   \n",
       "1  Afghanistan      AFG  2021-02-23                 NaN                NaN   \n",
       "2  Afghanistan      AFG  2021-02-24                 NaN                NaN   \n",
       "3  Afghanistan      AFG  2021-02-25                 NaN                NaN   \n",
       "4  Afghanistan      AFG  2021-02-26                 NaN                NaN   \n",
       "\n",
       "   people_fully_vaccinated  daily_vaccinations_raw  daily_vaccinations  \\\n",
       "0                      NaN                     NaN                 NaN   \n",
       "1                      NaN                     NaN              1367.0   \n",
       "2                      NaN                     NaN              1367.0   \n",
       "3                      NaN                     NaN              1367.0   \n",
       "4                      NaN                     NaN              1367.0   \n",
       "\n",
       "   total_vaccinations_per_hundred  people_vaccinated_per_hundred  \\\n",
       "0                             0.0                            0.0   \n",
       "1                             NaN                            NaN   \n",
       "2                             NaN                            NaN   \n",
       "3                             NaN                            NaN   \n",
       "4                             NaN                            NaN   \n",
       "\n",
       "   people_fully_vaccinated_per_hundred  daily_vaccinations_per_million  \\\n",
       "0                                  NaN                             NaN   \n",
       "1                                  NaN                            34.0   \n",
       "2                                  NaN                            34.0   \n",
       "3                                  NaN                            34.0   \n",
       "4                                  NaN                            34.0   \n",
       "\n",
       "                                            vaccines  \\\n",
       "0  Johnson&Johnson, Oxford/AstraZeneca, Pfizer/Bi...   \n",
       "1  Johnson&Johnson, Oxford/AstraZeneca, Pfizer/Bi...   \n",
       "2  Johnson&Johnson, Oxford/AstraZeneca, Pfizer/Bi...   \n",
       "3  Johnson&Johnson, Oxford/AstraZeneca, Pfizer/Bi...   \n",
       "4  Johnson&Johnson, Oxford/AstraZeneca, Pfizer/Bi...   \n",
       "\n",
       "                 source_name            source_website  \n",
       "0  World Health Organization  https://covid19.who.int/  \n",
       "1  World Health Organization  https://covid19.who.int/  \n",
       "2  World Health Organization  https://covid19.who.int/  \n",
       "3  World Health Organization  https://covid19.who.int/  \n",
       "4  World Health Organization  https://covid19.who.int/  "
      ]
     },
     "execution_count": 27,
     "metadata": {},
     "output_type": "execute_result"
    }
   ],
   "source": [
    "df.head()"
   ]
  },
  {
   "cell_type": "markdown",
   "id": "836f2f3a-7737-4481-a41b-acab7a4f42c4",
   "metadata": {},
   "source": [
    "### 1.find the number of total vaccinations in india in year 2020,2021 and 2022"
   ]
  },
  {
   "cell_type": "code",
   "execution_count": 28,
   "id": "05d5f3e4-a3a8-4684-9b2d-7ea02b532b7e",
   "metadata": {},
   "outputs": [
    {
     "name": "stdout",
     "output_type": "stream",
     "text": [
      "Total vaccinations in India in 2020: 0.0\n",
      "Total vaccinations in India in 2021: 174118546779.0\n",
      "Total vaccinations in India in 2022: 149321759019.0\n"
     ]
    }
   ],
   "source": [
    "df['date'] = pd.to_datetime(df['date'])\n",
    "df['year'] = df['date'].dt.year\n",
    "\n",
    "# Filter data for India\n",
    "india_data = df[df['country'] == 'India']\n",
    "\n",
    "# Filter data for each year (2020, 2021, 2022)\n",
    "vaccinations_2020 = india_data[india_data['year'] == 2020]['total_vaccinations'].sum()\n",
    "vaccinations_2021 = india_data[india_data['year'] == 2021]['total_vaccinations'].sum()\n",
    "vaccinations_2022 = india_data[india_data['year'] == 2022]['total_vaccinations'].sum()\n",
    "\n",
    "# Display the results\n",
    "print(f'Total vaccinations in India in 2020: {vaccinations_2020}')\n",
    "print(f'Total vaccinations in India in 2021: {vaccinations_2021}')\n",
    "print(f'Total vaccinations in India in 2022: {vaccinations_2022}')"
   ]
  },
  {
   "cell_type": "markdown",
   "id": "c487632b-e096-4d2f-9f9f-eeddefbf18c2",
   "metadata": {},
   "source": [
    "### 2.Comapre number of total vaccinations in year 2020 of india and USA¶"
   ]
  },
  {
   "cell_type": "code",
   "execution_count": 32,
   "id": "cb304632-532c-4e45-9c83-11aadf2b4d16",
   "metadata": {},
   "outputs": [
    {
     "name": "stdout",
     "output_type": "stream",
     "text": [
      "Total Vaccinations in India in 2020: nan\n",
      "Total Vaccinations in the USA in 2020: 5650180.0\n"
     ]
    }
   ],
   "source": [
    "\n",
    "# Convert the 'date' column to datetime format\n",
    "df['date'] = pd.to_datetime(df['date'])\n",
    "\n",
    "# Filter data for the year 2020\n",
    "df_2020 = df[df['date'].dt.year == 2020]\n",
    "\n",
    "# Filter data for India and the USA\n",
    "df_india = df_2020[df_2020['country'] == 'India']\n",
    "df_usa = df_2020[df_2020['country'] == 'United States']\n",
    "\n",
    "# Calculate the total vaccinations for India and the USA in 2020\n",
    "total_vaccinations_india = df_india['total_vaccinations'].max()\n",
    "total_vaccinations_usa = df_usa['total_vaccinations'].max()\n",
    "\n",
    "# Display the results\n",
    "print(f\"Total Vaccinations in India in 2020: {total_vaccinations_india}\")\n",
    "print(f\"Total Vaccinations in the USA in 2020: {total_vaccinations_usa}\")\n"
   ]
  },
  {
   "cell_type": "markdown",
   "id": "825bf4a4-cf45-4cca-9cd5-1e4bf0cfb495",
   "metadata": {},
   "source": [
    "### 3.Comapre Number of total vaccinations in year 2021 of india and china"
   ]
  },
  {
   "cell_type": "code",
   "execution_count": 34,
   "id": "1d5147eb-f506-4ef1-b5f8-f2c5ac438b9f",
   "metadata": {},
   "outputs": [
    {
     "name": "stdout",
     "output_type": "stream",
     "text": [
      "Total vaccinations in India in 2021: 174118546779.0\n",
      "Total vaccinations in China in 2021: 440076944700.0\n",
      "China had more total vaccinations in 2021.\n"
     ]
    }
   ],
   "source": [
    "\n",
    "# Filter data for the year 2021\n",
    "df_2021 = df[df['date'].dt.year == 2021]\n",
    "\n",
    "# Filter data for India and China\n",
    "india_data = df_2021[df_2021['country'] == 'India']\n",
    "china_data = df_2021[df_2021['country'] == 'China']\n",
    "\n",
    "# Calculate the total vaccinations for India and China\n",
    "total_vaccinations_india = india_data['total_vaccinations'].sum()\n",
    "total_vaccinations_china = china_data['total_vaccinations'].sum()\n",
    "\n",
    "# Print the results\n",
    "print(f\"Total vaccinations in India in 2021: {total_vaccinations_india}\")\n",
    "print(f\"Total vaccinations in China in 2021: {total_vaccinations_china}\")\n",
    "\n",
    "# Compare the numbers\n",
    "if total_vaccinations_india > total_vaccinations_china:\n",
    "    print(\"India had more total vaccinations in 2021.\")\n",
    "elif total_vaccinations_india < total_vaccinations_china:\n",
    "    print(\"China had more total vaccinations in 2021.\")\n",
    "else:\n",
    "    print(\"India and China had the same total vaccinations in 2021.\")\n"
   ]
  },
  {
   "cell_type": "markdown",
   "id": "46c1bfda-022a-46e4-a04e-a8d636de6b40",
   "metadata": {},
   "source": [
    "### 4.find the number of vaccinations in each month in india in the year 2021"
   ]
  },
  {
   "cell_type": "code",
   "execution_count": 35,
   "id": "bc10fc2a-f88f-4936-a9ca-65f675dd166e",
   "metadata": {},
   "outputs": [
    {
     "name": "stderr",
     "output_type": "stream",
     "text": [
      "C:\\Users\\shivp\\AppData\\Local\\Temp\\ipykernel_11856\\3348733675.py:8: SettingWithCopyWarning: \n",
      "A value is trying to be set on a copy of a slice from a DataFrame.\n",
      "Try using .loc[row_indexer,col_indexer] = value instead\n",
      "\n",
      "See the caveats in the documentation: https://pandas.pydata.org/pandas-docs/stable/user_guide/indexing.html#returning-a-view-versus-a-copy\n",
      "  india_data_2021['month'] = india_data_2021['date'].dt.month\n"
     ]
    },
    {
     "data": {
      "text/plain": [
       "month\n",
       "1     2.832321e+07\n",
       "2     2.377621e+08\n",
       "3     1.166007e+09\n",
       "4     3.038130e+09\n",
       "5     5.432545e+09\n",
       "6     7.930055e+09\n",
       "7     1.112970e+10\n",
       "8     1.559347e+10\n",
       "9     2.316289e+10\n",
       "10    3.029975e+10\n",
       "11    3.416499e+10\n",
       "12    4.193492e+10\n",
       "Name: total_vaccinations, dtype: float64"
      ]
     },
     "execution_count": 35,
     "metadata": {},
     "output_type": "execute_result"
    }
   ],
   "source": [
    "\n",
    "# Convert the 'date' column to datetime format\n",
    "df['date'] = pd.to_datetime(df['date'])\n",
    "\n",
    "# Filter data for India and the year 2021\n",
    "india_data_2021 = df[(df['country'] == 'India') & (df['date'].dt.year == 2021)]\n",
    "\n",
    "# Extract month from the date and create a new column 'month'\n",
    "india_data_2021['month'] = india_data_2021['date'].dt.month\n",
    "\n",
    "# Group by month and sum the number of vaccinations\n",
    "monthly_vaccinations = india_data_2021.groupby('month')['total_vaccinations'].sum()\n",
    "\n",
    "# Display the result\n",
    "monthly_vaccinations\n"
   ]
  },
  {
   "cell_type": "markdown",
   "id": "3bc2807a-c7e9-49b2-9c59-98bfe9942171",
   "metadata": {},
   "source": [
    "### 5.Which month has the most number of total vaccinations in india in 2021"
   ]
  },
  {
   "cell_type": "code",
   "execution_count": 36,
   "id": "c4f49d95-905f-4af5-8bb0-fdecf66202d0",
   "metadata": {},
   "outputs": [
    {
     "name": "stdout",
     "output_type": "stream",
     "text": [
      "\n",
      "Month with the Most Number of Total Vaccinations in India in 2021:\n",
      "Month: 12 | Total Vaccinations: 1448865422.0\n"
     ]
    }
   ],
   "source": [
    "max_vaccinations_month = vaccinations_by_month.idxmax()\n",
    "max_vaccinations_count = vaccinations_by_month.max()\n",
    "\n",
    "print(\"\\nMonth with the Most Number of Total Vaccinations in India in 2021:\")\n",
    "print(f\"Month: {max_vaccinations_month} | Total Vaccinations: {max_vaccinations_count}\")"
   ]
  },
  {
   "cell_type": "code",
   "execution_count": null,
   "id": "bc75ba56-08c3-4bfd-980d-d8f2c5fb0f70",
   "metadata": {},
   "outputs": [],
   "source": []
  }
 ],
 "metadata": {
  "kernelspec": {
   "display_name": "Python 3 (ipykernel)",
   "language": "python",
   "name": "python3"
  },
  "language_info": {
   "codemirror_mode": {
    "name": "ipython",
    "version": 3
   },
   "file_extension": ".py",
   "mimetype": "text/x-python",
   "name": "python",
   "nbconvert_exporter": "python",
   "pygments_lexer": "ipython3",
   "version": "3.12.0"
  }
 },
 "nbformat": 4,
 "nbformat_minor": 5
}
