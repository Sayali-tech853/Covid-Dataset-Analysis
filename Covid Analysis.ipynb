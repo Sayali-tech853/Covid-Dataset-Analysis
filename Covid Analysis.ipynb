{
 "cells": [
  {
   "cell_type": "code",
   "execution_count": 2,
   "id": "c11eed35-8fe3-4449-b80e-806a9e280676",
   "metadata": {},
   "outputs": [],
   "source": [
    "import pandas as pd"
   ]
  },
  {
   "cell_type": "code",
   "execution_count": 3,
   "id": "25b14f15-dd2e-42ca-bc92-ff76469acd22",
   "metadata": {},
   "outputs": [],
   "source": [
    "df = pd.read_csv('country_wise_latest.csv')\n"
   ]
  },
  {
   "cell_type": "code",
   "execution_count": 6,
   "id": "14721a8c-9217-46c8-a1bc-9aeb3905a026",
   "metadata": {},
   "outputs": [],
   "source": [
    "#Which country is having maximum confirmed cases\n",
    "\n",
    "maximum_confirmed_country = df.loc[df['Confirmed'].idxmax()]['Country/Region']\n",
    "maximum_confirmed_cases = df['Confirmed'].max()"
   ]
  },
  {
   "cell_type": "code",
   "execution_count": 7,
   "id": "7b4a96eb-f2e4-4afe-8631-9aa5444d2566",
   "metadata": {},
   "outputs": [
    {
     "name": "stdout",
     "output_type": "stream",
     "text": [
      "The country with the maximum confirmed cases is US with 4290259 confirmed cases.\n"
     ]
    }
   ],
   "source": [
    "print(f\"The country with the maximum confirmed cases is {max_confirmed_country} with {max_confirmed_cases} confirmed cases.\")"
   ]
  },
  {
   "cell_type": "code",
   "execution_count": null,
   "id": "fd7d8fc8-49c7-4854-abfa-536d45d95b18",
   "metadata": {},
   "outputs": [],
   "source": [
    "#Which country is having maximum deaths\n",
    "\n",
    "max_deaths_country = df.loc[df['Deaths'].idxmax()]['Country/Region']\n",
    "max_deaths = df['Deaths'].max()\n",
    "\n",
    "# Print the results\n",
    "print(f\"The country with the maximum confirmed cases is {max_confirmed_country} with {max_confirmed_cases} confirmed cases.\")\n",
    "print(f\"The country with the maximum deaths is {max_deaths_country} with {max_deaths} deaths.\")\n",
    "This code uses the pandas library to read the CSV file into a DataFrame and then finds the country with the maximu"
   ]
  },
  {
   "cell_type": "code",
   "execution_count": null,
   "id": "0d1f8815-0d6f-4019-8527-9324e0c8744d",
   "metadata": {},
   "outputs": [],
   "source": []
  }
 ],
 "metadata": {
  "kernelspec": {
   "display_name": "Python 3 (ipykernel)",
   "language": "python",
   "name": "python3"
  },
  "language_info": {
   "codemirror_mode": {
    "name": "ipython",
    "version": 3
   },
   "file_extension": ".py",
   "mimetype": "text/x-python",
   "name": "python",
   "nbconvert_exporter": "python",
   "pygments_lexer": "ipython3",
   "version": "3.12.0"
  }
 },
 "nbformat": 4,
 "nbformat_minor": 5
}
