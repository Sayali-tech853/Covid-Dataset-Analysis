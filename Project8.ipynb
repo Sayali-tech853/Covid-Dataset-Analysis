{
 "cells": [
  {
   "cell_type": "code",
   "execution_count": 1,
   "id": "bf6f2515-4625-4810-b818-69b88a632e31",
   "metadata": {},
   "outputs": [],
   "source": [
    "import pandas as pd"
   ]
  },
  {
   "cell_type": "code",
   "execution_count": 2,
   "id": "295e8963-867f-4878-bd4f-af9e917298b2",
   "metadata": {},
   "outputs": [],
   "source": [
    "df = pd.read_csv('country_vaccinations.csv')"
   ]
  },
  {
   "cell_type": "code",
   "execution_count": 4,
   "id": "88280668-dee7-47ed-a087-d95e827e0548",
   "metadata": {},
   "outputs": [
    {
     "name": "stdout",
     "output_type": "stream",
     "text": [
      "The country with the least total vaccinations is Afghanistan with 0.0 total vaccinations.\n"
     ]
    }
   ],
   "source": [
    "\n",
    "least_vaccinated_country = df.loc[df['total_vaccinations'].idxmin()]['country']\n",
    "least_total_vaccinations = df['total_vaccinations'].min()\n",
    "print(f'The country with the least total vaccinations is {least_vaccinated_country} with {least_total_vaccinations} total vaccinations.')"
   ]
  },
  {
   "cell_type": "code",
   "execution_count": 5,
   "id": "3cf7b6e6-0188-4fcd-86b6-7d6461ccdf9d",
   "metadata": {},
   "outputs": [
    {
     "name": "stdout",
     "output_type": "stream",
     "text": [
      "The country with the most total vaccinations is China with 3263129000.0 total vaccinations.\n"
     ]
    }
   ],
   "source": [
    "most_vaccinated_country = df.loc[df['total_vaccinations'].idxmax()]['country']\n",
    "most_total_vaccinations = df['total_vaccinations'].max()\n",
    "\n",
    "print(f'The country with the most total vaccinations is {most_vaccinated_country} with {most_total_vaccinations} total vaccinations.')"
   ]
  },
  {
   "cell_type": "code",
   "execution_count": null,
   "id": "a72f0439-df31-4ca1-bfe9-cb4226820b3e",
   "metadata": {},
   "outputs": [],
   "source": []
  }
 ],
 "metadata": {
  "kernelspec": {
   "display_name": "Python 3 (ipykernel)",
   "language": "python",
   "name": "python3"
  },
  "language_info": {
   "codemirror_mode": {
    "name": "ipython",
    "version": 3
   },
   "file_extension": ".py",
   "mimetype": "text/x-python",
   "name": "python",
   "nbconvert_exporter": "python",
   "pygments_lexer": "ipython3",
   "version": "3.12.0"
  }
 },
 "nbformat": 4,
 "nbformat_minor": 5
}
