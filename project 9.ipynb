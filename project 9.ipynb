{
 "cells": [
  {
   "cell_type": "markdown",
   "id": "e2e36b1e-ddcf-47bf-89ba-6ebceb3767ca",
   "metadata": {},
   "source": [
    "### find the monthly total number of vaccinations from Jan to dec in 2021"
   ]
  },
  {
   "cell_type": "code",
   "execution_count": 1,
   "id": "1a566dfe-8f60-4123-83a6-3039332d1d14",
   "metadata": {},
   "outputs": [],
   "source": [
    "import pandas as pd"
   ]
  },
  {
   "cell_type": "code",
   "execution_count": 2,
   "id": "3c26d6de-fff4-45dc-8238-fe53984306fc",
   "metadata": {},
   "outputs": [],
   "source": [
    "df = pd.read_csv('country_vaccinations.csv')"
   ]
  },
  {
   "cell_type": "code",
   "execution_count": 4,
   "id": "8129f0c7-69fb-441b-ab64-8b97d86cffad",
   "metadata": {},
   "outputs": [
    {
     "name": "stdout",
     "output_type": "stream",
     "text": [
      "Total vaccinations in January: 1368363247.0\n",
      "Total vaccinations in February: 4511692243.0\n",
      "Total vaccinations in March: 12370498506.0\n",
      "Total vaccinations in April: 26638153919.0\n",
      "Total vaccinations in May: 46939663406.0\n",
      "Total vaccinations in June: 75009721988.0\n",
      "Total vaccinations in July: 108476702477.0\n",
      "Total vaccinations in August: 141091163032.0\n",
      "Total vaccinations in September: 165202298502.0\n",
      "Total vaccinations in October: 190039710952.0\n",
      "Total vaccinations in November: 208464393532.0\n",
      "Total vaccinations in December: 237472470374.0\n"
     ]
    }
   ],
   "source": [
    "\n",
    "\n",
    "df['date'] = pd.to_datetime(df['date'])  # Convert 'date' to datetime format\n",
    "df['month'] = df['date'].dt.month  # Extract the month from the 'date' column\n",
    "\n",
    "# Filter data for the year 2021\n",
    "df_2021 = df[df['date'].dt.year == 2021]\n",
    "\n",
    "# Group by month and sum the total vaccinations for each month\n",
    "monthly_vaccinations_2021 = df_2021.groupby('month')['total_vaccinations'].sum()\n",
    "\n",
    "# Display the monthly number of total vaccinations from January to December\n",
    "for month in range(1, 13):\n",
    "    total_vaccinations = monthly_vaccinations_2021.get(month, 0)\n",
    "    print(f'Total vaccinations in {pd.to_datetime(month, format=\"%m\").strftime(\"%B\")}: {total_vaccinations}')\n"
   ]
  },
  {
   "cell_type": "code",
   "execution_count": null,
   "id": "918bd3f0-a062-49b3-a720-1e68683d2dd2",
   "metadata": {},
   "outputs": [],
   "source": []
  }
 ],
 "metadata": {
  "kernelspec": {
   "display_name": "Python 3 (ipykernel)",
   "language": "python",
   "name": "python3"
  },
  "language_info": {
   "codemirror_mode": {
    "name": "ipython",
    "version": 3
   },
   "file_extension": ".py",
   "mimetype": "text/x-python",
   "name": "python",
   "nbconvert_exporter": "python",
   "pygments_lexer": "ipython3",
   "version": "3.12.0"
  }
 },
 "nbformat": 4,
 "nbformat_minor": 5
}
