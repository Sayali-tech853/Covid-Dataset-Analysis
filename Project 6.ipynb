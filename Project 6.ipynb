{
 "cells": [
  {
   "cell_type": "markdown",
   "id": "764503a0-d691-42c7-bfe7-fe224e4a3836",
   "metadata": {},
   "source": [
    "### project 6"
   ]
  },
  {
   "cell_type": "code",
   "execution_count": 2,
   "id": "81c83237-a2bd-47fa-bd06-7aad24fbf6a4",
   "metadata": {},
   "outputs": [],
   "source": [
    "import pandas as pd"
   ]
  },
  {
   "cell_type": "code",
   "execution_count": 3,
   "id": "6fff5d88-2abb-4b36-8973-f6e5532e49a5",
   "metadata": {},
   "outputs": [],
   "source": [
    "df = pd.read_csv('country_vaccinations.csv')"
   ]
  },
  {
   "cell_type": "code",
   "execution_count": 4,
   "id": "c354a6ce-ef21-4a15-8b3e-29d65b5cd269",
   "metadata": {},
   "outputs": [],
   "source": [
    "df['date'] = pd.to_datetime(df['date']) "
   ]
  },
  {
   "cell_type": "code",
   "execution_count": 5,
   "id": "058f55b8-11c8-419f-932d-920de7e7fe39",
   "metadata": {},
   "outputs": [],
   "source": [
    "df['month'] = df['date'].dt.strftime('%b')"
   ]
  },
  {
   "cell_type": "code",
   "execution_count": 6,
   "id": "d00aa34e-6742-475a-88cd-bc57d612bdc8",
   "metadata": {},
   "outputs": [
    {
     "name": "stdout",
     "output_type": "stream",
     "text": [
      "       country iso_code       date  total_vaccinations  people_vaccinated  \\\n",
      "0  Afghanistan      AFG 2021-02-22                 0.0                0.0   \n",
      "1  Afghanistan      AFG 2021-02-23                 NaN                NaN   \n",
      "2  Afghanistan      AFG 2021-02-24                 NaN                NaN   \n",
      "3  Afghanistan      AFG 2021-02-25                 NaN                NaN   \n",
      "4  Afghanistan      AFG 2021-02-26                 NaN                NaN   \n",
      "\n",
      "   people_fully_vaccinated  daily_vaccinations_raw  daily_vaccinations  \\\n",
      "0                      NaN                     NaN                 NaN   \n",
      "1                      NaN                     NaN              1367.0   \n",
      "2                      NaN                     NaN              1367.0   \n",
      "3                      NaN                     NaN              1367.0   \n",
      "4                      NaN                     NaN              1367.0   \n",
      "\n",
      "   total_vaccinations_per_hundred  people_vaccinated_per_hundred  \\\n",
      "0                             0.0                            0.0   \n",
      "1                             NaN                            NaN   \n",
      "2                             NaN                            NaN   \n",
      "3                             NaN                            NaN   \n",
      "4                             NaN                            NaN   \n",
      "\n",
      "   people_fully_vaccinated_per_hundred  daily_vaccinations_per_million  \\\n",
      "0                                  NaN                             NaN   \n",
      "1                                  NaN                            34.0   \n",
      "2                                  NaN                            34.0   \n",
      "3                                  NaN                            34.0   \n",
      "4                                  NaN                            34.0   \n",
      "\n",
      "                                            vaccines  \\\n",
      "0  Johnson&Johnson, Oxford/AstraZeneca, Pfizer/Bi...   \n",
      "1  Johnson&Johnson, Oxford/AstraZeneca, Pfizer/Bi...   \n",
      "2  Johnson&Johnson, Oxford/AstraZeneca, Pfizer/Bi...   \n",
      "3  Johnson&Johnson, Oxford/AstraZeneca, Pfizer/Bi...   \n",
      "4  Johnson&Johnson, Oxford/AstraZeneca, Pfizer/Bi...   \n",
      "\n",
      "                 source_name            source_website month  \n",
      "0  World Health Organization  https://covid19.who.int/   Feb  \n",
      "1  World Health Organization  https://covid19.who.int/   Feb  \n",
      "2  World Health Organization  https://covid19.who.int/   Feb  \n",
      "3  World Health Organization  https://covid19.who.int/   Feb  \n",
      "4  World Health Organization  https://covid19.who.int/   Feb  \n"
     ]
    }
   ],
   "source": [
    "print(df.head())"
   ]
  },
  {
   "cell_type": "code",
   "execution_count": null,
   "id": "a8851a75-8e7a-435b-b6df-8b126a929fcc",
   "metadata": {},
   "outputs": [],
   "source": []
  }
 ],
 "metadata": {
  "kernelspec": {
   "display_name": "Python 3 (ipykernel)",
   "language": "python",
   "name": "python3"
  },
  "language_info": {
   "codemirror_mode": {
    "name": "ipython",
    "version": 3
   },
   "file_extension": ".py",
   "mimetype": "text/x-python",
   "name": "python",
   "nbconvert_exporter": "python",
   "pygments_lexer": "ipython3",
   "version": "3.12.0"
  }
 },
 "nbformat": 4,
 "nbformat_minor": 5
}
